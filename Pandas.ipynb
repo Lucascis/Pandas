{
  "nbformat": 4,
  "nbformat_minor": 0,
  "metadata": {
    "kernelspec": {
      "display_name": "Python 3",
      "language": "python",
      "name": "python3"
    },
    "language_info": {
      "codemirror_mode": {
        "name": "ipython",
        "version": 3
      },
      "file_extension": ".py",
      "mimetype": "text/x-python",
      "name": "python",
      "nbconvert_exporter": "python",
      "pygments_lexer": "ipython3",
      "version": "3.7.6"
    },
    "colab": {
      "name": "Pandas.ipynb",
      "provenance": [],
      "collapsed_sections": []
    }
  },
  "cells": [
    {
      "cell_type": "markdown",
      "metadata": {
        "id": "E49i11Xa1P1i",
        "colab_type": "text"
      },
      "source": [
        "## Pandas \n",
        "\n",
        "Pandas es la librería más conocida de Python para manipular y analizar datos. Está montada sobre NumPy, por lo cual muchas funcionalidades son similares. \n",
        "\n",
        "Pandas nos provee de los *Dataframes* y las *Series*. El objeto más utilizado es el primero, los Dataframes. \n",
        "\n",
        "### Primeros pasos\n",
        "\n",
        "Importar la librería."
      ]
    },
    {
      "cell_type": "code",
      "metadata": {
        "id": "j24h6xmv1P1o",
        "colab_type": "code",
        "colab": {}
      },
      "source": [
        "import pandas as pd"
      ],
      "execution_count": 69,
      "outputs": []
    },
    {
      "cell_type": "markdown",
      "metadata": {
        "id": "FyLT8HgC1P11",
        "colab_type": "text"
      },
      "source": [
        "Abajo, declaramos la varible 'data_dic' en forma de diccionario para crear un dataset\n",
        "\n",
        "**Nota**: Los datos son sacados de http://www.ign.gob.ar/nuestrasactividades/geografia/datosargentina/divisionpolitica"
      ]
    },
    {
      "cell_type": "code",
      "metadata": {
        "id": "WQq6LK041P17",
        "colab_type": "code",
        "colab": {}
      },
      "source": [
        "data_dic = {\"Jurisdiccion\":[\"CABA\",\"Buenos Aires\",\"Catamarca\",\"Chaco\",\"Chubut\",\"Córdoba\",\"Jujuy\",\"Mendoza\",\"Misiones\",\"Río Negro\",\"Santa Cruz\",\n",
        "                           \"Santa Fe\"],\n",
        "            \"Poblacion\":[2890151,15625084,367828,1055259,509108,3308876,673307,1738929,\n",
        "                        1101593,638645,273964,3194537],\n",
        "            \"Superficie\":[200,307521,102606,99633,509108,165321,53219,148827,29801,203013,243943,133007]}"
      ],
      "execution_count": 70,
      "outputs": []
    },
    {
      "cell_type": "code",
      "metadata": {
        "id": "0SMR3d331P2L",
        "colab_type": "code",
        "colab": {
          "base_uri": "https://localhost:8080/",
          "height": 421
        },
        "outputId": "fafdf972-3839-4f3b-e5be-ccab0728a73e"
      },
      "source": [
        "# Crear el Dataframe\n",
        "df = pd.DataFrame(data_dic)\n",
        "df"
      ],
      "execution_count": 71,
      "outputs": [
        {
          "output_type": "execute_result",
          "data": {
            "text/html": [
              "<div>\n",
              "<style scoped>\n",
              "    .dataframe tbody tr th:only-of-type {\n",
              "        vertical-align: middle;\n",
              "    }\n",
              "\n",
              "    .dataframe tbody tr th {\n",
              "        vertical-align: top;\n",
              "    }\n",
              "\n",
              "    .dataframe thead th {\n",
              "        text-align: right;\n",
              "    }\n",
              "</style>\n",
              "<table border=\"1\" class=\"dataframe\">\n",
              "  <thead>\n",
              "    <tr style=\"text-align: right;\">\n",
              "      <th></th>\n",
              "      <th>Jurisdiccion</th>\n",
              "      <th>Poblacion</th>\n",
              "      <th>Superficie</th>\n",
              "    </tr>\n",
              "  </thead>\n",
              "  <tbody>\n",
              "    <tr>\n",
              "      <th>0</th>\n",
              "      <td>CABA</td>\n",
              "      <td>2890151</td>\n",
              "      <td>200</td>\n",
              "    </tr>\n",
              "    <tr>\n",
              "      <th>1</th>\n",
              "      <td>Buenos Aires</td>\n",
              "      <td>15625084</td>\n",
              "      <td>307521</td>\n",
              "    </tr>\n",
              "    <tr>\n",
              "      <th>2</th>\n",
              "      <td>Catamarca</td>\n",
              "      <td>367828</td>\n",
              "      <td>102606</td>\n",
              "    </tr>\n",
              "    <tr>\n",
              "      <th>3</th>\n",
              "      <td>Chaco</td>\n",
              "      <td>1055259</td>\n",
              "      <td>99633</td>\n",
              "    </tr>\n",
              "    <tr>\n",
              "      <th>4</th>\n",
              "      <td>Chubut</td>\n",
              "      <td>509108</td>\n",
              "      <td>509108</td>\n",
              "    </tr>\n",
              "    <tr>\n",
              "      <th>5</th>\n",
              "      <td>Córdoba</td>\n",
              "      <td>3308876</td>\n",
              "      <td>165321</td>\n",
              "    </tr>\n",
              "    <tr>\n",
              "      <th>6</th>\n",
              "      <td>Jujuy</td>\n",
              "      <td>673307</td>\n",
              "      <td>53219</td>\n",
              "    </tr>\n",
              "    <tr>\n",
              "      <th>7</th>\n",
              "      <td>Mendoza</td>\n",
              "      <td>1738929</td>\n",
              "      <td>148827</td>\n",
              "    </tr>\n",
              "    <tr>\n",
              "      <th>8</th>\n",
              "      <td>Misiones</td>\n",
              "      <td>1101593</td>\n",
              "      <td>29801</td>\n",
              "    </tr>\n",
              "    <tr>\n",
              "      <th>9</th>\n",
              "      <td>Río Negro</td>\n",
              "      <td>638645</td>\n",
              "      <td>203013</td>\n",
              "    </tr>\n",
              "    <tr>\n",
              "      <th>10</th>\n",
              "      <td>Santa Cruz</td>\n",
              "      <td>273964</td>\n",
              "      <td>243943</td>\n",
              "    </tr>\n",
              "    <tr>\n",
              "      <th>11</th>\n",
              "      <td>Santa Fe</td>\n",
              "      <td>3194537</td>\n",
              "      <td>133007</td>\n",
              "    </tr>\n",
              "  </tbody>\n",
              "</table>\n",
              "</div>"
            ],
            "text/plain": [
              "    Jurisdiccion  Poblacion  Superficie\n",
              "0           CABA    2890151         200\n",
              "1   Buenos Aires   15625084      307521\n",
              "2      Catamarca     367828      102606\n",
              "3          Chaco    1055259       99633\n",
              "4         Chubut     509108      509108\n",
              "5        Córdoba    3308876      165321\n",
              "6          Jujuy     673307       53219\n",
              "7        Mendoza    1738929      148827\n",
              "8       Misiones    1101593       29801\n",
              "9      Río Negro     638645      203013\n",
              "10    Santa Cruz     273964      243943\n",
              "11      Santa Fe    3194537      133007"
            ]
          },
          "metadata": {
            "tags": []
          },
          "execution_count": 71
        }
      ]
    },
    {
      "cell_type": "markdown",
      "metadata": {
        "id": "2UlnyR6O1P2d",
        "colab_type": "text"
      },
      "source": [
        "###Funciones útiles"
      ]
    },
    {
      "cell_type": "code",
      "metadata": {
        "id": "Y5wTHya41P2i",
        "colab_type": "code",
        "colab": {
          "base_uri": "https://localhost:8080/",
          "height": 204
        },
        "outputId": "abcd5372-0965-4ce3-f191-9f15d19aeff1"
      },
      "source": [
        "df.head()   #Muestra las primeras n filas del Dataframe. Se puede pasar n como argumento. (Por defecto, n = 5)"
      ],
      "execution_count": 72,
      "outputs": [
        {
          "output_type": "execute_result",
          "data": {
            "text/html": [
              "<div>\n",
              "<style scoped>\n",
              "    .dataframe tbody tr th:only-of-type {\n",
              "        vertical-align: middle;\n",
              "    }\n",
              "\n",
              "    .dataframe tbody tr th {\n",
              "        vertical-align: top;\n",
              "    }\n",
              "\n",
              "    .dataframe thead th {\n",
              "        text-align: right;\n",
              "    }\n",
              "</style>\n",
              "<table border=\"1\" class=\"dataframe\">\n",
              "  <thead>\n",
              "    <tr style=\"text-align: right;\">\n",
              "      <th></th>\n",
              "      <th>Jurisdiccion</th>\n",
              "      <th>Poblacion</th>\n",
              "      <th>Superficie</th>\n",
              "    </tr>\n",
              "  </thead>\n",
              "  <tbody>\n",
              "    <tr>\n",
              "      <th>0</th>\n",
              "      <td>CABA</td>\n",
              "      <td>2890151</td>\n",
              "      <td>200</td>\n",
              "    </tr>\n",
              "    <tr>\n",
              "      <th>1</th>\n",
              "      <td>Buenos Aires</td>\n",
              "      <td>15625084</td>\n",
              "      <td>307521</td>\n",
              "    </tr>\n",
              "    <tr>\n",
              "      <th>2</th>\n",
              "      <td>Catamarca</td>\n",
              "      <td>367828</td>\n",
              "      <td>102606</td>\n",
              "    </tr>\n",
              "    <tr>\n",
              "      <th>3</th>\n",
              "      <td>Chaco</td>\n",
              "      <td>1055259</td>\n",
              "      <td>99633</td>\n",
              "    </tr>\n",
              "    <tr>\n",
              "      <th>4</th>\n",
              "      <td>Chubut</td>\n",
              "      <td>509108</td>\n",
              "      <td>509108</td>\n",
              "    </tr>\n",
              "  </tbody>\n",
              "</table>\n",
              "</div>"
            ],
            "text/plain": [
              "   Jurisdiccion  Poblacion  Superficie\n",
              "0          CABA    2890151         200\n",
              "1  Buenos Aires   15625084      307521\n",
              "2     Catamarca     367828      102606\n",
              "3         Chaco    1055259       99633\n",
              "4        Chubut     509108      509108"
            ]
          },
          "metadata": {
            "tags": []
          },
          "execution_count": 72
        }
      ]
    },
    {
      "cell_type": "code",
      "metadata": {
        "id": "06zNnML65EGN",
        "colab_type": "code",
        "colab": {
          "base_uri": "https://localhost:8080/",
          "height": 204
        },
        "outputId": "a16d2a3b-b9bd-4074-932d-aa11c7f310b5"
      },
      "source": [
        "df.tail()   #Muestra las últimas n filas del Dataframe. Se puede pasar n como argumento. (Por defecto, n = 5)"
      ],
      "execution_count": 73,
      "outputs": [
        {
          "output_type": "execute_result",
          "data": {
            "text/html": [
              "<div>\n",
              "<style scoped>\n",
              "    .dataframe tbody tr th:only-of-type {\n",
              "        vertical-align: middle;\n",
              "    }\n",
              "\n",
              "    .dataframe tbody tr th {\n",
              "        vertical-align: top;\n",
              "    }\n",
              "\n",
              "    .dataframe thead th {\n",
              "        text-align: right;\n",
              "    }\n",
              "</style>\n",
              "<table border=\"1\" class=\"dataframe\">\n",
              "  <thead>\n",
              "    <tr style=\"text-align: right;\">\n",
              "      <th></th>\n",
              "      <th>Jurisdiccion</th>\n",
              "      <th>Poblacion</th>\n",
              "      <th>Superficie</th>\n",
              "    </tr>\n",
              "  </thead>\n",
              "  <tbody>\n",
              "    <tr>\n",
              "      <th>7</th>\n",
              "      <td>Mendoza</td>\n",
              "      <td>1738929</td>\n",
              "      <td>148827</td>\n",
              "    </tr>\n",
              "    <tr>\n",
              "      <th>8</th>\n",
              "      <td>Misiones</td>\n",
              "      <td>1101593</td>\n",
              "      <td>29801</td>\n",
              "    </tr>\n",
              "    <tr>\n",
              "      <th>9</th>\n",
              "      <td>Río Negro</td>\n",
              "      <td>638645</td>\n",
              "      <td>203013</td>\n",
              "    </tr>\n",
              "    <tr>\n",
              "      <th>10</th>\n",
              "      <td>Santa Cruz</td>\n",
              "      <td>273964</td>\n",
              "      <td>243943</td>\n",
              "    </tr>\n",
              "    <tr>\n",
              "      <th>11</th>\n",
              "      <td>Santa Fe</td>\n",
              "      <td>3194537</td>\n",
              "      <td>133007</td>\n",
              "    </tr>\n",
              "  </tbody>\n",
              "</table>\n",
              "</div>"
            ],
            "text/plain": [
              "   Jurisdiccion  Poblacion  Superficie\n",
              "7       Mendoza    1738929      148827\n",
              "8      Misiones    1101593       29801\n",
              "9     Río Negro     638645      203013\n",
              "10   Santa Cruz     273964      243943\n",
              "11     Santa Fe    3194537      133007"
            ]
          },
          "metadata": {
            "tags": []
          },
          "execution_count": 73
        }
      ]
    },
    {
      "cell_type": "code",
      "metadata": {
        "id": "y-kPdqIb5EjO",
        "colab_type": "code",
        "colab": {
          "base_uri": "https://localhost:8080/",
          "height": 85
        },
        "outputId": "3319913f-e17d-4110-f0dd-743160c32e6b"
      },
      "source": [
        "df.count()    #Cuenta las celdas que no sean NA por cada columna o fila"
      ],
      "execution_count": 74,
      "outputs": [
        {
          "output_type": "execute_result",
          "data": {
            "text/plain": [
              "Jurisdiccion    12\n",
              "Poblacion       12\n",
              "Superficie      12\n",
              "dtype: int64"
            ]
          },
          "metadata": {
            "tags": []
          },
          "execution_count": 74
        }
      ]
    },
    {
      "cell_type": "code",
      "metadata": {
        "id": "tIPix2xG5FeB",
        "colab_type": "code",
        "colab": {
          "base_uri": "https://localhost:8080/",
          "height": 34
        },
        "outputId": "50570a47-38d7-43a3-c524-3e481c8a2045"
      },
      "source": [
        "df.shape      #Muestra la cantida de filas y columnas del Dataframe"
      ],
      "execution_count": 75,
      "outputs": [
        {
          "output_type": "execute_result",
          "data": {
            "text/plain": [
              "(12, 3)"
            ]
          },
          "metadata": {
            "tags": []
          },
          "execution_count": 75
        }
      ]
    },
    {
      "cell_type": "markdown",
      "metadata": {
        "id": "uozfwkNo1P2w",
        "colab_type": "text"
      },
      "source": [
        "Para agregar una fila al Dataframe hay muchas formas de hacerlo, a continuación se muestra una de ellas pero se puede googlear \"add row to dataframe\" para buscar otras. Googlear la función df.concat()"
      ]
    },
    {
      "cell_type": "code",
      "metadata": {
        "id": "i__cR4Hh1P2z",
        "colab_type": "code",
        "colab": {
          "base_uri": "https://localhost:8080/",
          "height": 452
        },
        "outputId": "1148a7ec-ca46-4847-e55f-5b8778bf5e2c"
      },
      "source": [
        "df = df.append({'Jurisdiccion':'Entre Rios', 'Poblacion':1308000, 'Superficie':78771}, ignore_index=True) #Probar sacar el argumento ignore_index\n",
        "df"
      ],
      "execution_count": 76,
      "outputs": [
        {
          "output_type": "execute_result",
          "data": {
            "text/html": [
              "<div>\n",
              "<style scoped>\n",
              "    .dataframe tbody tr th:only-of-type {\n",
              "        vertical-align: middle;\n",
              "    }\n",
              "\n",
              "    .dataframe tbody tr th {\n",
              "        vertical-align: top;\n",
              "    }\n",
              "\n",
              "    .dataframe thead th {\n",
              "        text-align: right;\n",
              "    }\n",
              "</style>\n",
              "<table border=\"1\" class=\"dataframe\">\n",
              "  <thead>\n",
              "    <tr style=\"text-align: right;\">\n",
              "      <th></th>\n",
              "      <th>Jurisdiccion</th>\n",
              "      <th>Poblacion</th>\n",
              "      <th>Superficie</th>\n",
              "    </tr>\n",
              "  </thead>\n",
              "  <tbody>\n",
              "    <tr>\n",
              "      <th>0</th>\n",
              "      <td>CABA</td>\n",
              "      <td>2890151</td>\n",
              "      <td>200</td>\n",
              "    </tr>\n",
              "    <tr>\n",
              "      <th>1</th>\n",
              "      <td>Buenos Aires</td>\n",
              "      <td>15625084</td>\n",
              "      <td>307521</td>\n",
              "    </tr>\n",
              "    <tr>\n",
              "      <th>2</th>\n",
              "      <td>Catamarca</td>\n",
              "      <td>367828</td>\n",
              "      <td>102606</td>\n",
              "    </tr>\n",
              "    <tr>\n",
              "      <th>3</th>\n",
              "      <td>Chaco</td>\n",
              "      <td>1055259</td>\n",
              "      <td>99633</td>\n",
              "    </tr>\n",
              "    <tr>\n",
              "      <th>4</th>\n",
              "      <td>Chubut</td>\n",
              "      <td>509108</td>\n",
              "      <td>509108</td>\n",
              "    </tr>\n",
              "    <tr>\n",
              "      <th>5</th>\n",
              "      <td>Córdoba</td>\n",
              "      <td>3308876</td>\n",
              "      <td>165321</td>\n",
              "    </tr>\n",
              "    <tr>\n",
              "      <th>6</th>\n",
              "      <td>Jujuy</td>\n",
              "      <td>673307</td>\n",
              "      <td>53219</td>\n",
              "    </tr>\n",
              "    <tr>\n",
              "      <th>7</th>\n",
              "      <td>Mendoza</td>\n",
              "      <td>1738929</td>\n",
              "      <td>148827</td>\n",
              "    </tr>\n",
              "    <tr>\n",
              "      <th>8</th>\n",
              "      <td>Misiones</td>\n",
              "      <td>1101593</td>\n",
              "      <td>29801</td>\n",
              "    </tr>\n",
              "    <tr>\n",
              "      <th>9</th>\n",
              "      <td>Río Negro</td>\n",
              "      <td>638645</td>\n",
              "      <td>203013</td>\n",
              "    </tr>\n",
              "    <tr>\n",
              "      <th>10</th>\n",
              "      <td>Santa Cruz</td>\n",
              "      <td>273964</td>\n",
              "      <td>243943</td>\n",
              "    </tr>\n",
              "    <tr>\n",
              "      <th>11</th>\n",
              "      <td>Santa Fe</td>\n",
              "      <td>3194537</td>\n",
              "      <td>133007</td>\n",
              "    </tr>\n",
              "    <tr>\n",
              "      <th>12</th>\n",
              "      <td>Entre Rios</td>\n",
              "      <td>1308000</td>\n",
              "      <td>78771</td>\n",
              "    </tr>\n",
              "  </tbody>\n",
              "</table>\n",
              "</div>"
            ],
            "text/plain": [
              "    Jurisdiccion  Poblacion  Superficie\n",
              "0           CABA    2890151         200\n",
              "1   Buenos Aires   15625084      307521\n",
              "2      Catamarca     367828      102606\n",
              "3          Chaco    1055259       99633\n",
              "4         Chubut     509108      509108\n",
              "5        Córdoba    3308876      165321\n",
              "6          Jujuy     673307       53219\n",
              "7        Mendoza    1738929      148827\n",
              "8       Misiones    1101593       29801\n",
              "9      Río Negro     638645      203013\n",
              "10    Santa Cruz     273964      243943\n",
              "11      Santa Fe    3194537      133007\n",
              "12    Entre Rios    1308000       78771"
            ]
          },
          "metadata": {
            "tags": []
          },
          "execution_count": 76
        }
      ]
    },
    {
      "cell_type": "markdown",
      "metadata": {
        "id": "3XnYJjid1P2_",
        "colab_type": "text"
      },
      "source": [
        "**Para mostrar las columnas**"
      ]
    },
    {
      "cell_type": "code",
      "metadata": {
        "id": "3TypUl1A1P3B",
        "colab_type": "code",
        "colab": {
          "base_uri": "https://localhost:8080/",
          "height": 34
        },
        "outputId": "69b443c6-c433-4c1f-b73a-d24710c60eef"
      },
      "source": [
        "df.columns"
      ],
      "execution_count": 77,
      "outputs": [
        {
          "output_type": "execute_result",
          "data": {
            "text/plain": [
              "Index(['Jurisdiccion', 'Poblacion', 'Superficie'], dtype='object')"
            ]
          },
          "metadata": {
            "tags": []
          },
          "execution_count": 77
        }
      ]
    },
    {
      "cell_type": "markdown",
      "metadata": {
        "id": "uJY1RZ0qDfp7",
        "colab_type": "text"
      },
      "source": [
        "**Para mostrar el rango de indice**"
      ]
    },
    {
      "cell_type": "code",
      "metadata": {
        "id": "e-S46iPjDebB",
        "colab_type": "code",
        "colab": {
          "base_uri": "https://localhost:8080/",
          "height": 34
        },
        "outputId": "2fe4a60f-ad34-48a9-fe19-55d112f67fbb"
      },
      "source": [
        "df.index"
      ],
      "execution_count": 78,
      "outputs": [
        {
          "output_type": "execute_result",
          "data": {
            "text/plain": [
              "RangeIndex(start=0, stop=13, step=1)"
            ]
          },
          "metadata": {
            "tags": []
          },
          "execution_count": 78
        }
      ]
    },
    {
      "cell_type": "markdown",
      "metadata": {
        "id": "EK-iDt4a1P3M",
        "colab_type": "text"
      },
      "source": [
        "**Muestra los valores de la columna indicada**\n",
        "\n",
        "NOTA: Buscar la diferencia entre df['columna'] y df.columna\n"
      ]
    },
    {
      "cell_type": "code",
      "metadata": {
        "id": "UAg6Cz5v1P3P",
        "colab_type": "code",
        "colab": {
          "base_uri": "https://localhost:8080/",
          "height": 255
        },
        "outputId": "220a3ad8-c9ca-4fdb-818d-943dad2f23c4"
      },
      "source": [
        "df['Jurisdiccion']\n",
        "# df[['Jurisdiccion','Poblacion']]\n",
        "# df.Jurisdiccion\n",
        "# 'Poblacion' in df   <<< Devuelve True si se encuentra en el Dataframe o False sino. "
      ],
      "execution_count": 79,
      "outputs": [
        {
          "output_type": "execute_result",
          "data": {
            "text/plain": [
              "0             CABA\n",
              "1     Buenos Aires\n",
              "2        Catamarca\n",
              "3            Chaco\n",
              "4           Chubut\n",
              "5          Córdoba\n",
              "6            Jujuy\n",
              "7          Mendoza\n",
              "8         Misiones\n",
              "9        Río Negro\n",
              "10      Santa Cruz\n",
              "11        Santa Fe\n",
              "12      Entre Rios\n",
              "Name: Jurisdiccion, dtype: object"
            ]
          },
          "metadata": {
            "tags": []
          },
          "execution_count": 79
        }
      ]
    },
    {
      "cell_type": "markdown",
      "metadata": {
        "id": "osTgGkDJ1P3X",
        "colab_type": "text"
      },
      "source": [
        "**Agregar columna 'Densidad'**\n"
      ]
    },
    {
      "cell_type": "code",
      "metadata": {
        "id": "8E5lnSqG1P3c",
        "colab_type": "code",
        "colab": {
          "base_uri": "https://localhost:8080/",
          "height": 452
        },
        "outputId": "e03d7c4c-fdd9-4a30-8b42-86bf62924a33"
      },
      "source": [
        "df['Densidad'] = 0 # Valor por defecto en 0.\n",
        "df"
      ],
      "execution_count": 80,
      "outputs": [
        {
          "output_type": "execute_result",
          "data": {
            "text/html": [
              "<div>\n",
              "<style scoped>\n",
              "    .dataframe tbody tr th:only-of-type {\n",
              "        vertical-align: middle;\n",
              "    }\n",
              "\n",
              "    .dataframe tbody tr th {\n",
              "        vertical-align: top;\n",
              "    }\n",
              "\n",
              "    .dataframe thead th {\n",
              "        text-align: right;\n",
              "    }\n",
              "</style>\n",
              "<table border=\"1\" class=\"dataframe\">\n",
              "  <thead>\n",
              "    <tr style=\"text-align: right;\">\n",
              "      <th></th>\n",
              "      <th>Jurisdiccion</th>\n",
              "      <th>Poblacion</th>\n",
              "      <th>Superficie</th>\n",
              "      <th>Densidad</th>\n",
              "    </tr>\n",
              "  </thead>\n",
              "  <tbody>\n",
              "    <tr>\n",
              "      <th>0</th>\n",
              "      <td>CABA</td>\n",
              "      <td>2890151</td>\n",
              "      <td>200</td>\n",
              "      <td>0</td>\n",
              "    </tr>\n",
              "    <tr>\n",
              "      <th>1</th>\n",
              "      <td>Buenos Aires</td>\n",
              "      <td>15625084</td>\n",
              "      <td>307521</td>\n",
              "      <td>0</td>\n",
              "    </tr>\n",
              "    <tr>\n",
              "      <th>2</th>\n",
              "      <td>Catamarca</td>\n",
              "      <td>367828</td>\n",
              "      <td>102606</td>\n",
              "      <td>0</td>\n",
              "    </tr>\n",
              "    <tr>\n",
              "      <th>3</th>\n",
              "      <td>Chaco</td>\n",
              "      <td>1055259</td>\n",
              "      <td>99633</td>\n",
              "      <td>0</td>\n",
              "    </tr>\n",
              "    <tr>\n",
              "      <th>4</th>\n",
              "      <td>Chubut</td>\n",
              "      <td>509108</td>\n",
              "      <td>509108</td>\n",
              "      <td>0</td>\n",
              "    </tr>\n",
              "    <tr>\n",
              "      <th>5</th>\n",
              "      <td>Córdoba</td>\n",
              "      <td>3308876</td>\n",
              "      <td>165321</td>\n",
              "      <td>0</td>\n",
              "    </tr>\n",
              "    <tr>\n",
              "      <th>6</th>\n",
              "      <td>Jujuy</td>\n",
              "      <td>673307</td>\n",
              "      <td>53219</td>\n",
              "      <td>0</td>\n",
              "    </tr>\n",
              "    <tr>\n",
              "      <th>7</th>\n",
              "      <td>Mendoza</td>\n",
              "      <td>1738929</td>\n",
              "      <td>148827</td>\n",
              "      <td>0</td>\n",
              "    </tr>\n",
              "    <tr>\n",
              "      <th>8</th>\n",
              "      <td>Misiones</td>\n",
              "      <td>1101593</td>\n",
              "      <td>29801</td>\n",
              "      <td>0</td>\n",
              "    </tr>\n",
              "    <tr>\n",
              "      <th>9</th>\n",
              "      <td>Río Negro</td>\n",
              "      <td>638645</td>\n",
              "      <td>203013</td>\n",
              "      <td>0</td>\n",
              "    </tr>\n",
              "    <tr>\n",
              "      <th>10</th>\n",
              "      <td>Santa Cruz</td>\n",
              "      <td>273964</td>\n",
              "      <td>243943</td>\n",
              "      <td>0</td>\n",
              "    </tr>\n",
              "    <tr>\n",
              "      <th>11</th>\n",
              "      <td>Santa Fe</td>\n",
              "      <td>3194537</td>\n",
              "      <td>133007</td>\n",
              "      <td>0</td>\n",
              "    </tr>\n",
              "    <tr>\n",
              "      <th>12</th>\n",
              "      <td>Entre Rios</td>\n",
              "      <td>1308000</td>\n",
              "      <td>78771</td>\n",
              "      <td>0</td>\n",
              "    </tr>\n",
              "  </tbody>\n",
              "</table>\n",
              "</div>"
            ],
            "text/plain": [
              "    Jurisdiccion  Poblacion  Superficie  Densidad\n",
              "0           CABA    2890151         200         0\n",
              "1   Buenos Aires   15625084      307521         0\n",
              "2      Catamarca     367828      102606         0\n",
              "3          Chaco    1055259       99633         0\n",
              "4         Chubut     509108      509108         0\n",
              "5        Córdoba    3308876      165321         0\n",
              "6          Jujuy     673307       53219         0\n",
              "7        Mendoza    1738929      148827         0\n",
              "8       Misiones    1101593       29801         0\n",
              "9      Río Negro     638645      203013         0\n",
              "10    Santa Cruz     273964      243943         0\n",
              "11      Santa Fe    3194537      133007         0\n",
              "12    Entre Rios    1308000       78771         0"
            ]
          },
          "metadata": {
            "tags": []
          },
          "execution_count": 80
        }
      ]
    },
    {
      "cell_type": "code",
      "metadata": {
        "id": "_wj9lEzOG_Vu",
        "colab_type": "code",
        "colab": {
          "base_uri": "https://localhost:8080/",
          "height": 452
        },
        "outputId": "ac5aa03f-bf70-41b5-97e2-e147fd1716a2"
      },
      "source": [
        "for i in range(len(df)):\n",
        "  df.loc[i, 'Densidad'] = int(df.loc[i, 'Poblacion'] / df.loc[i, 'Superficie'])\n",
        "df  "
      ],
      "execution_count": 81,
      "outputs": [
        {
          "output_type": "execute_result",
          "data": {
            "text/html": [
              "<div>\n",
              "<style scoped>\n",
              "    .dataframe tbody tr th:only-of-type {\n",
              "        vertical-align: middle;\n",
              "    }\n",
              "\n",
              "    .dataframe tbody tr th {\n",
              "        vertical-align: top;\n",
              "    }\n",
              "\n",
              "    .dataframe thead th {\n",
              "        text-align: right;\n",
              "    }\n",
              "</style>\n",
              "<table border=\"1\" class=\"dataframe\">\n",
              "  <thead>\n",
              "    <tr style=\"text-align: right;\">\n",
              "      <th></th>\n",
              "      <th>Jurisdiccion</th>\n",
              "      <th>Poblacion</th>\n",
              "      <th>Superficie</th>\n",
              "      <th>Densidad</th>\n",
              "    </tr>\n",
              "  </thead>\n",
              "  <tbody>\n",
              "    <tr>\n",
              "      <th>0</th>\n",
              "      <td>CABA</td>\n",
              "      <td>2890151</td>\n",
              "      <td>200</td>\n",
              "      <td>14450</td>\n",
              "    </tr>\n",
              "    <tr>\n",
              "      <th>1</th>\n",
              "      <td>Buenos Aires</td>\n",
              "      <td>15625084</td>\n",
              "      <td>307521</td>\n",
              "      <td>50</td>\n",
              "    </tr>\n",
              "    <tr>\n",
              "      <th>2</th>\n",
              "      <td>Catamarca</td>\n",
              "      <td>367828</td>\n",
              "      <td>102606</td>\n",
              "      <td>3</td>\n",
              "    </tr>\n",
              "    <tr>\n",
              "      <th>3</th>\n",
              "      <td>Chaco</td>\n",
              "      <td>1055259</td>\n",
              "      <td>99633</td>\n",
              "      <td>10</td>\n",
              "    </tr>\n",
              "    <tr>\n",
              "      <th>4</th>\n",
              "      <td>Chubut</td>\n",
              "      <td>509108</td>\n",
              "      <td>509108</td>\n",
              "      <td>1</td>\n",
              "    </tr>\n",
              "    <tr>\n",
              "      <th>5</th>\n",
              "      <td>Córdoba</td>\n",
              "      <td>3308876</td>\n",
              "      <td>165321</td>\n",
              "      <td>20</td>\n",
              "    </tr>\n",
              "    <tr>\n",
              "      <th>6</th>\n",
              "      <td>Jujuy</td>\n",
              "      <td>673307</td>\n",
              "      <td>53219</td>\n",
              "      <td>12</td>\n",
              "    </tr>\n",
              "    <tr>\n",
              "      <th>7</th>\n",
              "      <td>Mendoza</td>\n",
              "      <td>1738929</td>\n",
              "      <td>148827</td>\n",
              "      <td>11</td>\n",
              "    </tr>\n",
              "    <tr>\n",
              "      <th>8</th>\n",
              "      <td>Misiones</td>\n",
              "      <td>1101593</td>\n",
              "      <td>29801</td>\n",
              "      <td>36</td>\n",
              "    </tr>\n",
              "    <tr>\n",
              "      <th>9</th>\n",
              "      <td>Río Negro</td>\n",
              "      <td>638645</td>\n",
              "      <td>203013</td>\n",
              "      <td>3</td>\n",
              "    </tr>\n",
              "    <tr>\n",
              "      <th>10</th>\n",
              "      <td>Santa Cruz</td>\n",
              "      <td>273964</td>\n",
              "      <td>243943</td>\n",
              "      <td>1</td>\n",
              "    </tr>\n",
              "    <tr>\n",
              "      <th>11</th>\n",
              "      <td>Santa Fe</td>\n",
              "      <td>3194537</td>\n",
              "      <td>133007</td>\n",
              "      <td>24</td>\n",
              "    </tr>\n",
              "    <tr>\n",
              "      <th>12</th>\n",
              "      <td>Entre Rios</td>\n",
              "      <td>1308000</td>\n",
              "      <td>78771</td>\n",
              "      <td>16</td>\n",
              "    </tr>\n",
              "  </tbody>\n",
              "</table>\n",
              "</div>"
            ],
            "text/plain": [
              "    Jurisdiccion  Poblacion  Superficie  Densidad\n",
              "0           CABA    2890151         200     14450\n",
              "1   Buenos Aires   15625084      307521        50\n",
              "2      Catamarca     367828      102606         3\n",
              "3          Chaco    1055259       99633        10\n",
              "4         Chubut     509108      509108         1\n",
              "5        Córdoba    3308876      165321        20\n",
              "6          Jujuy     673307       53219        12\n",
              "7        Mendoza    1738929      148827        11\n",
              "8       Misiones    1101593       29801        36\n",
              "9      Río Negro     638645      203013         3\n",
              "10    Santa Cruz     273964      243943         1\n",
              "11      Santa Fe    3194537      133007        24\n",
              "12    Entre Rios    1308000       78771        16"
            ]
          },
          "metadata": {
            "tags": []
          },
          "execution_count": 81
        }
      ]
    },
    {
      "cell_type": "markdown",
      "metadata": {
        "id": "svpqtSdf1P3l",
        "colab_type": "text"
      },
      "source": [
        "## Filtrado por máscara.\n",
        "\n",
        "Las máscaras son **muy importantes** ya que te permiten filtrar los datos."
      ]
    },
    {
      "cell_type": "markdown",
      "metadata": {
        "id": "IuAkOYoe1P4B",
        "colab_type": "text"
      },
      "source": [
        "Notar que `mascara` es un arreglo de booleanos, con `True` en los valores que cumplen la condición y `False` donde no. Una vez que creamos la máscara, podemos usarla para seleccionar de nuestro arreglo aquellos elementos que queríamos:"
      ]
    },
    {
      "cell_type": "markdown",
      "metadata": {
        "id": "ZI1fVYFf1P4g",
        "colab_type": "text"
      },
      "source": [
        "Si necesitara seleccionar aquellas jurisdicciones (CABA...) cuya población sea mayor a un millón de habitantes. Podemos hacer esto:"
      ]
    },
    {
      "cell_type": "code",
      "metadata": {
        "id": "n2sWVVBz1P4i",
        "colab_type": "code",
        "colab": {
          "base_uri": "https://localhost:8080/",
          "height": 297
        },
        "outputId": "85c8820b-cd54-448d-84a4-8622255a72d2"
      },
      "source": [
        "df[df.Poblacion > 1000000]"
      ],
      "execution_count": 82,
      "outputs": [
        {
          "output_type": "execute_result",
          "data": {
            "text/html": [
              "<div>\n",
              "<style scoped>\n",
              "    .dataframe tbody tr th:only-of-type {\n",
              "        vertical-align: middle;\n",
              "    }\n",
              "\n",
              "    .dataframe tbody tr th {\n",
              "        vertical-align: top;\n",
              "    }\n",
              "\n",
              "    .dataframe thead th {\n",
              "        text-align: right;\n",
              "    }\n",
              "</style>\n",
              "<table border=\"1\" class=\"dataframe\">\n",
              "  <thead>\n",
              "    <tr style=\"text-align: right;\">\n",
              "      <th></th>\n",
              "      <th>Jurisdiccion</th>\n",
              "      <th>Poblacion</th>\n",
              "      <th>Superficie</th>\n",
              "      <th>Densidad</th>\n",
              "    </tr>\n",
              "  </thead>\n",
              "  <tbody>\n",
              "    <tr>\n",
              "      <th>0</th>\n",
              "      <td>CABA</td>\n",
              "      <td>2890151</td>\n",
              "      <td>200</td>\n",
              "      <td>14450</td>\n",
              "    </tr>\n",
              "    <tr>\n",
              "      <th>1</th>\n",
              "      <td>Buenos Aires</td>\n",
              "      <td>15625084</td>\n",
              "      <td>307521</td>\n",
              "      <td>50</td>\n",
              "    </tr>\n",
              "    <tr>\n",
              "      <th>3</th>\n",
              "      <td>Chaco</td>\n",
              "      <td>1055259</td>\n",
              "      <td>99633</td>\n",
              "      <td>10</td>\n",
              "    </tr>\n",
              "    <tr>\n",
              "      <th>5</th>\n",
              "      <td>Córdoba</td>\n",
              "      <td>3308876</td>\n",
              "      <td>165321</td>\n",
              "      <td>20</td>\n",
              "    </tr>\n",
              "    <tr>\n",
              "      <th>7</th>\n",
              "      <td>Mendoza</td>\n",
              "      <td>1738929</td>\n",
              "      <td>148827</td>\n",
              "      <td>11</td>\n",
              "    </tr>\n",
              "    <tr>\n",
              "      <th>8</th>\n",
              "      <td>Misiones</td>\n",
              "      <td>1101593</td>\n",
              "      <td>29801</td>\n",
              "      <td>36</td>\n",
              "    </tr>\n",
              "    <tr>\n",
              "      <th>11</th>\n",
              "      <td>Santa Fe</td>\n",
              "      <td>3194537</td>\n",
              "      <td>133007</td>\n",
              "      <td>24</td>\n",
              "    </tr>\n",
              "    <tr>\n",
              "      <th>12</th>\n",
              "      <td>Entre Rios</td>\n",
              "      <td>1308000</td>\n",
              "      <td>78771</td>\n",
              "      <td>16</td>\n",
              "    </tr>\n",
              "  </tbody>\n",
              "</table>\n",
              "</div>"
            ],
            "text/plain": [
              "    Jurisdiccion  Poblacion  Superficie  Densidad\n",
              "0           CABA    2890151         200     14450\n",
              "1   Buenos Aires   15625084      307521        50\n",
              "3          Chaco    1055259       99633        10\n",
              "5        Córdoba    3308876      165321        20\n",
              "7        Mendoza    1738929      148827        11\n",
              "8       Misiones    1101593       29801        36\n",
              "11      Santa Fe    3194537      133007        24\n",
              "12    Entre Rios    1308000       78771        16"
            ]
          },
          "metadata": {
            "tags": []
          },
          "execution_count": 82
        }
      ]
    },
    {
      "cell_type": "markdown",
      "metadata": {
        "id": "0rjN7J3A1P4M",
        "colab_type": "text"
      },
      "source": [
        "Con `mascara.sum()` podemos contar cuántas veces se cumple la condición que pedimos."
      ]
    },
    {
      "cell_type": "code",
      "metadata": {
        "id": "TV5d8V3oMaG1",
        "colab_type": "code",
        "colab": {
          "base_uri": "https://localhost:8080/",
          "height": 34
        },
        "outputId": "49f01122-a74d-4c78-fef3-e79648d45b3f"
      },
      "source": [
        "(df.Poblacion > 1000000).sum()"
      ],
      "execution_count": null,
      "outputs": [
        {
          "output_type": "execute_result",
          "data": {
            "text/plain": [
              "8"
            ]
          },
          "metadata": {
            "tags": []
          },
          "execution_count": 52
        }
      ]
    },
    {
      "cell_type": "markdown",
      "metadata": {
        "id": "pZo21ebL1P5G",
        "colab_type": "text"
      },
      "source": [
        "**Usar máscaras con operadores lógicos**"
      ]
    },
    {
      "cell_type": "code",
      "metadata": {
        "id": "Gia9i3AB1P5L",
        "colab_type": "code",
        "colab": {
          "base_uri": "https://localhost:8080/",
          "height": 173
        },
        "outputId": "1afb9186-e9d1-40d7-d9fc-bb89286a6b1f"
      },
      "source": [
        "df[(df.Poblacion > 1000000) & (df.Superficie < 100000)]\n",
        "\n",
        "# Usando Numpy  >>>>  ¿?¿? Próximo cintutorial ¿?¿?\n",
        "\n",
        "# import numpy \n",
        "# mascara = np.logical_and(df.Poblacion > 1000000, df.Superficie < 100000)\n",
        "# df[mascara]\n",
        "\n",
        "# or\n",
        "\n",
        "# df[np.logical_and(df.Poblacion > 1000000, df.Superficie < 100000)]"
      ],
      "execution_count": 83,
      "outputs": [
        {
          "output_type": "execute_result",
          "data": {
            "text/html": [
              "<div>\n",
              "<style scoped>\n",
              "    .dataframe tbody tr th:only-of-type {\n",
              "        vertical-align: middle;\n",
              "    }\n",
              "\n",
              "    .dataframe tbody tr th {\n",
              "        vertical-align: top;\n",
              "    }\n",
              "\n",
              "    .dataframe thead th {\n",
              "        text-align: right;\n",
              "    }\n",
              "</style>\n",
              "<table border=\"1\" class=\"dataframe\">\n",
              "  <thead>\n",
              "    <tr style=\"text-align: right;\">\n",
              "      <th></th>\n",
              "      <th>Jurisdiccion</th>\n",
              "      <th>Poblacion</th>\n",
              "      <th>Superficie</th>\n",
              "      <th>Densidad</th>\n",
              "    </tr>\n",
              "  </thead>\n",
              "  <tbody>\n",
              "    <tr>\n",
              "      <th>0</th>\n",
              "      <td>CABA</td>\n",
              "      <td>2890151</td>\n",
              "      <td>200</td>\n",
              "      <td>14450</td>\n",
              "    </tr>\n",
              "    <tr>\n",
              "      <th>3</th>\n",
              "      <td>Chaco</td>\n",
              "      <td>1055259</td>\n",
              "      <td>99633</td>\n",
              "      <td>10</td>\n",
              "    </tr>\n",
              "    <tr>\n",
              "      <th>8</th>\n",
              "      <td>Misiones</td>\n",
              "      <td>1101593</td>\n",
              "      <td>29801</td>\n",
              "      <td>36</td>\n",
              "    </tr>\n",
              "    <tr>\n",
              "      <th>12</th>\n",
              "      <td>Entre Rios</td>\n",
              "      <td>1308000</td>\n",
              "      <td>78771</td>\n",
              "      <td>16</td>\n",
              "    </tr>\n",
              "  </tbody>\n",
              "</table>\n",
              "</div>"
            ],
            "text/plain": [
              "   Jurisdiccion  Poblacion  Superficie  Densidad\n",
              "0          CABA    2890151         200     14450\n",
              "3         Chaco    1055259       99633        10\n",
              "8      Misiones    1101593       29801        36\n",
              "12   Entre Rios    1308000       78771        16"
            ]
          },
          "metadata": {
            "tags": []
          },
          "execution_count": 83
        }
      ]
    },
    {
      "cell_type": "markdown",
      "metadata": {
        "id": "Z057NM351P5W",
        "colab_type": "text"
      },
      "source": [
        "**Caso operador or:**"
      ]
    },
    {
      "cell_type": "code",
      "metadata": {
        "id": "EWJwPrS61P5Z",
        "colab_type": "code",
        "colab": {
          "base_uri": "https://localhost:8080/",
          "height": 297
        },
        "outputId": "ac55c0dd-3f20-4dcf-ba9f-64f0e9086f1b"
      },
      "source": [
        "# Vamos a seleccionar las jurisdicciones cuya población sea menor a 500 mil habitantes o su superficie mayor a cien mil km2\n",
        "\n",
        "df[(df.Poblacion < 500000) | (df.Superficie > 100000)]"
      ],
      "execution_count": 84,
      "outputs": [
        {
          "output_type": "execute_result",
          "data": {
            "text/html": [
              "<div>\n",
              "<style scoped>\n",
              "    .dataframe tbody tr th:only-of-type {\n",
              "        vertical-align: middle;\n",
              "    }\n",
              "\n",
              "    .dataframe tbody tr th {\n",
              "        vertical-align: top;\n",
              "    }\n",
              "\n",
              "    .dataframe thead th {\n",
              "        text-align: right;\n",
              "    }\n",
              "</style>\n",
              "<table border=\"1\" class=\"dataframe\">\n",
              "  <thead>\n",
              "    <tr style=\"text-align: right;\">\n",
              "      <th></th>\n",
              "      <th>Jurisdiccion</th>\n",
              "      <th>Poblacion</th>\n",
              "      <th>Superficie</th>\n",
              "      <th>Densidad</th>\n",
              "    </tr>\n",
              "  </thead>\n",
              "  <tbody>\n",
              "    <tr>\n",
              "      <th>1</th>\n",
              "      <td>Buenos Aires</td>\n",
              "      <td>15625084</td>\n",
              "      <td>307521</td>\n",
              "      <td>50</td>\n",
              "    </tr>\n",
              "    <tr>\n",
              "      <th>2</th>\n",
              "      <td>Catamarca</td>\n",
              "      <td>367828</td>\n",
              "      <td>102606</td>\n",
              "      <td>3</td>\n",
              "    </tr>\n",
              "    <tr>\n",
              "      <th>4</th>\n",
              "      <td>Chubut</td>\n",
              "      <td>509108</td>\n",
              "      <td>509108</td>\n",
              "      <td>1</td>\n",
              "    </tr>\n",
              "    <tr>\n",
              "      <th>5</th>\n",
              "      <td>Córdoba</td>\n",
              "      <td>3308876</td>\n",
              "      <td>165321</td>\n",
              "      <td>20</td>\n",
              "    </tr>\n",
              "    <tr>\n",
              "      <th>7</th>\n",
              "      <td>Mendoza</td>\n",
              "      <td>1738929</td>\n",
              "      <td>148827</td>\n",
              "      <td>11</td>\n",
              "    </tr>\n",
              "    <tr>\n",
              "      <th>9</th>\n",
              "      <td>Río Negro</td>\n",
              "      <td>638645</td>\n",
              "      <td>203013</td>\n",
              "      <td>3</td>\n",
              "    </tr>\n",
              "    <tr>\n",
              "      <th>10</th>\n",
              "      <td>Santa Cruz</td>\n",
              "      <td>273964</td>\n",
              "      <td>243943</td>\n",
              "      <td>1</td>\n",
              "    </tr>\n",
              "    <tr>\n",
              "      <th>11</th>\n",
              "      <td>Santa Fe</td>\n",
              "      <td>3194537</td>\n",
              "      <td>133007</td>\n",
              "      <td>24</td>\n",
              "    </tr>\n",
              "  </tbody>\n",
              "</table>\n",
              "</div>"
            ],
            "text/plain": [
              "    Jurisdiccion  Poblacion  Superficie  Densidad\n",
              "1   Buenos Aires   15625084      307521        50\n",
              "2      Catamarca     367828      102606         3\n",
              "4         Chubut     509108      509108         1\n",
              "5        Córdoba    3308876      165321        20\n",
              "7        Mendoza    1738929      148827        11\n",
              "9      Río Negro     638645      203013         3\n",
              "10    Santa Cruz     273964      243943         1\n",
              "11      Santa Fe    3194537      133007        24"
            ]
          },
          "metadata": {
            "tags": []
          },
          "execution_count": 84
        }
      ]
    },
    {
      "cell_type": "markdown",
      "metadata": {
        "id": "H1nzSLbJ1P5g",
        "colab_type": "text"
      },
      "source": [
        "## Iris dataset\n",
        "\n",
        "Iris Dataset, es un conjunto de datos ya existe y posiblemente uno de los más famosos.\n",
        "\n",
        "1. Abrir con Pandas el archivo 'iris.csv'. Utilizar: `pd.read_csv()`."
      ]
    },
    {
      "cell_type": "code",
      "metadata": {
        "id": "c6WItGqC1P5i",
        "colab_type": "code",
        "colab": {
          "base_uri": "https://localhost:8080/",
          "height": 419
        },
        "outputId": "e035ee19-7987-45f0-8a5a-605fe4673cc5"
      },
      "source": [
        "iris_data = pd.read_csv('iris.csv') #Cuando se ejecute local se debe especificar el PATH del archivo.\n",
        "iris_data"
      ],
      "execution_count": 85,
      "outputs": [
        {
          "output_type": "execute_result",
          "data": {
            "text/html": [
              "<div>\n",
              "<style scoped>\n",
              "    .dataframe tbody tr th:only-of-type {\n",
              "        vertical-align: middle;\n",
              "    }\n",
              "\n",
              "    .dataframe tbody tr th {\n",
              "        vertical-align: top;\n",
              "    }\n",
              "\n",
              "    .dataframe thead th {\n",
              "        text-align: right;\n",
              "    }\n",
              "</style>\n",
              "<table border=\"1\" class=\"dataframe\">\n",
              "  <thead>\n",
              "    <tr style=\"text-align: right;\">\n",
              "      <th></th>\n",
              "      <th>Id</th>\n",
              "      <th>SepalLengthCm</th>\n",
              "      <th>SepalWidthCm</th>\n",
              "      <th>PetalLengthCm</th>\n",
              "      <th>PetalWidthCm</th>\n",
              "      <th>Species</th>\n",
              "    </tr>\n",
              "  </thead>\n",
              "  <tbody>\n",
              "    <tr>\n",
              "      <th>0</th>\n",
              "      <td>1</td>\n",
              "      <td>5.1</td>\n",
              "      <td>3.5</td>\n",
              "      <td>1.4</td>\n",
              "      <td>0.2</td>\n",
              "      <td>Iris-setosa</td>\n",
              "    </tr>\n",
              "    <tr>\n",
              "      <th>1</th>\n",
              "      <td>2</td>\n",
              "      <td>4.9</td>\n",
              "      <td>3.0</td>\n",
              "      <td>1.4</td>\n",
              "      <td>0.2</td>\n",
              "      <td>Iris-setosa</td>\n",
              "    </tr>\n",
              "    <tr>\n",
              "      <th>2</th>\n",
              "      <td>3</td>\n",
              "      <td>4.7</td>\n",
              "      <td>3.2</td>\n",
              "      <td>1.3</td>\n",
              "      <td>0.2</td>\n",
              "      <td>Iris-setosa</td>\n",
              "    </tr>\n",
              "    <tr>\n",
              "      <th>3</th>\n",
              "      <td>4</td>\n",
              "      <td>4.6</td>\n",
              "      <td>3.1</td>\n",
              "      <td>1.5</td>\n",
              "      <td>0.2</td>\n",
              "      <td>Iris-setosa</td>\n",
              "    </tr>\n",
              "    <tr>\n",
              "      <th>4</th>\n",
              "      <td>5</td>\n",
              "      <td>5.0</td>\n",
              "      <td>3.6</td>\n",
              "      <td>1.4</td>\n",
              "      <td>0.2</td>\n",
              "      <td>Iris-setosa</td>\n",
              "    </tr>\n",
              "    <tr>\n",
              "      <th>...</th>\n",
              "      <td>...</td>\n",
              "      <td>...</td>\n",
              "      <td>...</td>\n",
              "      <td>...</td>\n",
              "      <td>...</td>\n",
              "      <td>...</td>\n",
              "    </tr>\n",
              "    <tr>\n",
              "      <th>145</th>\n",
              "      <td>146</td>\n",
              "      <td>6.7</td>\n",
              "      <td>3.0</td>\n",
              "      <td>5.2</td>\n",
              "      <td>2.3</td>\n",
              "      <td>Iris-virginica</td>\n",
              "    </tr>\n",
              "    <tr>\n",
              "      <th>146</th>\n",
              "      <td>147</td>\n",
              "      <td>6.3</td>\n",
              "      <td>2.5</td>\n",
              "      <td>5.0</td>\n",
              "      <td>1.9</td>\n",
              "      <td>Iris-virginica</td>\n",
              "    </tr>\n",
              "    <tr>\n",
              "      <th>147</th>\n",
              "      <td>148</td>\n",
              "      <td>6.5</td>\n",
              "      <td>3.0</td>\n",
              "      <td>5.2</td>\n",
              "      <td>2.0</td>\n",
              "      <td>Iris-virginica</td>\n",
              "    </tr>\n",
              "    <tr>\n",
              "      <th>148</th>\n",
              "      <td>149</td>\n",
              "      <td>6.2</td>\n",
              "      <td>3.4</td>\n",
              "      <td>5.4</td>\n",
              "      <td>2.3</td>\n",
              "      <td>Iris-virginica</td>\n",
              "    </tr>\n",
              "    <tr>\n",
              "      <th>149</th>\n",
              "      <td>150</td>\n",
              "      <td>5.9</td>\n",
              "      <td>3.0</td>\n",
              "      <td>5.1</td>\n",
              "      <td>1.8</td>\n",
              "      <td>Iris-virginica</td>\n",
              "    </tr>\n",
              "  </tbody>\n",
              "</table>\n",
              "<p>150 rows × 6 columns</p>\n",
              "</div>"
            ],
            "text/plain": [
              "      Id  SepalLengthCm  ...  PetalWidthCm         Species\n",
              "0      1            5.1  ...           0.2     Iris-setosa\n",
              "1      2            4.9  ...           0.2     Iris-setosa\n",
              "2      3            4.7  ...           0.2     Iris-setosa\n",
              "3      4            4.6  ...           0.2     Iris-setosa\n",
              "4      5            5.0  ...           0.2     Iris-setosa\n",
              "..   ...            ...  ...           ...             ...\n",
              "145  146            6.7  ...           2.3  Iris-virginica\n",
              "146  147            6.3  ...           1.9  Iris-virginica\n",
              "147  148            6.5  ...           2.0  Iris-virginica\n",
              "148  149            6.2  ...           2.3  Iris-virginica\n",
              "149  150            5.9  ...           1.8  Iris-virginica\n",
              "\n",
              "[150 rows x 6 columns]"
            ]
          },
          "metadata": {
            "tags": []
          },
          "execution_count": 85
        }
      ]
    },
    {
      "cell_type": "markdown",
      "metadata": {
        "id": "IcsJiYe31P5p",
        "colab_type": "text"
      },
      "source": [
        "2. Con `shape` podemos saber cuantas filas y columnas tiene. Con `columns` podemos saber el nombre de las columnas."
      ]
    },
    {
      "cell_type": "code",
      "metadata": {
        "id": "BqDWhNM51P5r",
        "colab_type": "code",
        "colab": {
          "base_uri": "https://localhost:8080/",
          "height": 85
        },
        "outputId": "fc079670-f864-4890-fe4f-cc6fc8f454e4"
      },
      "source": [
        "print(iris_data.shape)\n",
        "print(iris_data.columns)"
      ],
      "execution_count": 86,
      "outputs": [
        {
          "output_type": "stream",
          "text": [
            "(150, 6)\n",
            "Index(['Id', 'SepalLengthCm', 'SepalWidthCm', 'PetalLengthCm', 'PetalWidthCm',\n",
            "       'Species'],\n",
            "      dtype='object')\n"
          ],
          "name": "stdout"
        }
      ]
    },
    {
      "cell_type": "markdown",
      "metadata": {
        "id": "h0hQVgt21P58",
        "colab_type": "text"
      },
      "source": [
        "3. Si tenemos columnas que no necesitemos podemos eliminarlas con `drop` o `del`.\n",
        "\n",
        "NOTA: `drop` puede eliminar filas o columnas y con el argumento `inplace` puede devolver o no una copia. En cambio, `del` solo elimina columnas y trabaja sobre el objeto. "
      ]
    },
    {
      "cell_type": "code",
      "metadata": {
        "id": "FMWb9yIz1P5_",
        "colab_type": "code",
        "colab": {
          "base_uri": "https://localhost:8080/",
          "height": 419
        },
        "outputId": "31fa83cf-e717-44df-9c23-3a2df77d6f4f"
      },
      "source": [
        "iris_data.drop('Id', axis=1, inplace=True)\n",
        "iris_data"
      ],
      "execution_count": 87,
      "outputs": [
        {
          "output_type": "execute_result",
          "data": {
            "text/html": [
              "<div>\n",
              "<style scoped>\n",
              "    .dataframe tbody tr th:only-of-type {\n",
              "        vertical-align: middle;\n",
              "    }\n",
              "\n",
              "    .dataframe tbody tr th {\n",
              "        vertical-align: top;\n",
              "    }\n",
              "\n",
              "    .dataframe thead th {\n",
              "        text-align: right;\n",
              "    }\n",
              "</style>\n",
              "<table border=\"1\" class=\"dataframe\">\n",
              "  <thead>\n",
              "    <tr style=\"text-align: right;\">\n",
              "      <th></th>\n",
              "      <th>SepalLengthCm</th>\n",
              "      <th>SepalWidthCm</th>\n",
              "      <th>PetalLengthCm</th>\n",
              "      <th>PetalWidthCm</th>\n",
              "      <th>Species</th>\n",
              "    </tr>\n",
              "  </thead>\n",
              "  <tbody>\n",
              "    <tr>\n",
              "      <th>0</th>\n",
              "      <td>5.1</td>\n",
              "      <td>3.5</td>\n",
              "      <td>1.4</td>\n",
              "      <td>0.2</td>\n",
              "      <td>Iris-setosa</td>\n",
              "    </tr>\n",
              "    <tr>\n",
              "      <th>1</th>\n",
              "      <td>4.9</td>\n",
              "      <td>3.0</td>\n",
              "      <td>1.4</td>\n",
              "      <td>0.2</td>\n",
              "      <td>Iris-setosa</td>\n",
              "    </tr>\n",
              "    <tr>\n",
              "      <th>2</th>\n",
              "      <td>4.7</td>\n",
              "      <td>3.2</td>\n",
              "      <td>1.3</td>\n",
              "      <td>0.2</td>\n",
              "      <td>Iris-setosa</td>\n",
              "    </tr>\n",
              "    <tr>\n",
              "      <th>3</th>\n",
              "      <td>4.6</td>\n",
              "      <td>3.1</td>\n",
              "      <td>1.5</td>\n",
              "      <td>0.2</td>\n",
              "      <td>Iris-setosa</td>\n",
              "    </tr>\n",
              "    <tr>\n",
              "      <th>4</th>\n",
              "      <td>5.0</td>\n",
              "      <td>3.6</td>\n",
              "      <td>1.4</td>\n",
              "      <td>0.2</td>\n",
              "      <td>Iris-setosa</td>\n",
              "    </tr>\n",
              "    <tr>\n",
              "      <th>...</th>\n",
              "      <td>...</td>\n",
              "      <td>...</td>\n",
              "      <td>...</td>\n",
              "      <td>...</td>\n",
              "      <td>...</td>\n",
              "    </tr>\n",
              "    <tr>\n",
              "      <th>145</th>\n",
              "      <td>6.7</td>\n",
              "      <td>3.0</td>\n",
              "      <td>5.2</td>\n",
              "      <td>2.3</td>\n",
              "      <td>Iris-virginica</td>\n",
              "    </tr>\n",
              "    <tr>\n",
              "      <th>146</th>\n",
              "      <td>6.3</td>\n",
              "      <td>2.5</td>\n",
              "      <td>5.0</td>\n",
              "      <td>1.9</td>\n",
              "      <td>Iris-virginica</td>\n",
              "    </tr>\n",
              "    <tr>\n",
              "      <th>147</th>\n",
              "      <td>6.5</td>\n",
              "      <td>3.0</td>\n",
              "      <td>5.2</td>\n",
              "      <td>2.0</td>\n",
              "      <td>Iris-virginica</td>\n",
              "    </tr>\n",
              "    <tr>\n",
              "      <th>148</th>\n",
              "      <td>6.2</td>\n",
              "      <td>3.4</td>\n",
              "      <td>5.4</td>\n",
              "      <td>2.3</td>\n",
              "      <td>Iris-virginica</td>\n",
              "    </tr>\n",
              "    <tr>\n",
              "      <th>149</th>\n",
              "      <td>5.9</td>\n",
              "      <td>3.0</td>\n",
              "      <td>5.1</td>\n",
              "      <td>1.8</td>\n",
              "      <td>Iris-virginica</td>\n",
              "    </tr>\n",
              "  </tbody>\n",
              "</table>\n",
              "<p>150 rows × 5 columns</p>\n",
              "</div>"
            ],
            "text/plain": [
              "     SepalLengthCm  SepalWidthCm  PetalLengthCm  PetalWidthCm         Species\n",
              "0              5.1           3.5            1.4           0.2     Iris-setosa\n",
              "1              4.9           3.0            1.4           0.2     Iris-setosa\n",
              "2              4.7           3.2            1.3           0.2     Iris-setosa\n",
              "3              4.6           3.1            1.5           0.2     Iris-setosa\n",
              "4              5.0           3.6            1.4           0.2     Iris-setosa\n",
              "..             ...           ...            ...           ...             ...\n",
              "145            6.7           3.0            5.2           2.3  Iris-virginica\n",
              "146            6.3           2.5            5.0           1.9  Iris-virginica\n",
              "147            6.5           3.0            5.2           2.0  Iris-virginica\n",
              "148            6.2           3.4            5.4           2.3  Iris-virginica\n",
              "149            5.9           3.0            5.1           1.8  Iris-virginica\n",
              "\n",
              "[150 rows x 5 columns]"
            ]
          },
          "metadata": {
            "tags": []
          },
          "execution_count": 87
        }
      ]
    },
    {
      "cell_type": "markdown",
      "metadata": {
        "id": "xZc3ROA1uwsi",
        "colab_type": "text"
      },
      "source": [
        "### \"loc\" e \"iloc\""
      ]
    },
    {
      "cell_type": "code",
      "metadata": {
        "id": "o7t65DAn1P6H",
        "colab_type": "code",
        "colab": {
          "base_uri": "https://localhost:8080/",
          "height": 204
        },
        "outputId": "442d80bd-2920-4b30-c663-41b386253324"
      },
      "source": [
        "dfn = pd.DataFrame({'A':['Casa','Puerta','Ventanas','Techo','Piso']}, index=[9,6,5,1,3])\n",
        "dfn"
      ],
      "execution_count": 89,
      "outputs": [
        {
          "output_type": "execute_result",
          "data": {
            "text/html": [
              "<div>\n",
              "<style scoped>\n",
              "    .dataframe tbody tr th:only-of-type {\n",
              "        vertical-align: middle;\n",
              "    }\n",
              "\n",
              "    .dataframe tbody tr th {\n",
              "        vertical-align: top;\n",
              "    }\n",
              "\n",
              "    .dataframe thead th {\n",
              "        text-align: right;\n",
              "    }\n",
              "</style>\n",
              "<table border=\"1\" class=\"dataframe\">\n",
              "  <thead>\n",
              "    <tr style=\"text-align: right;\">\n",
              "      <th></th>\n",
              "      <th>A</th>\n",
              "    </tr>\n",
              "  </thead>\n",
              "  <tbody>\n",
              "    <tr>\n",
              "      <th>9</th>\n",
              "      <td>Casa</td>\n",
              "    </tr>\n",
              "    <tr>\n",
              "      <th>6</th>\n",
              "      <td>Puerta</td>\n",
              "    </tr>\n",
              "    <tr>\n",
              "      <th>5</th>\n",
              "      <td>Ventanas</td>\n",
              "    </tr>\n",
              "    <tr>\n",
              "      <th>1</th>\n",
              "      <td>Techo</td>\n",
              "    </tr>\n",
              "    <tr>\n",
              "      <th>3</th>\n",
              "      <td>Piso</td>\n",
              "    </tr>\n",
              "  </tbody>\n",
              "</table>\n",
              "</div>"
            ],
            "text/plain": [
              "          A\n",
              "9      Casa\n",
              "6    Puerta\n",
              "5  Ventanas\n",
              "1     Techo\n",
              "3      Piso"
            ]
          },
          "metadata": {
            "tags": []
          },
          "execution_count": 89
        }
      ]
    },
    {
      "cell_type": "code",
      "metadata": {
        "id": "STYy0viEx1hi",
        "colab_type": "code",
        "colab": {
          "base_uri": "https://localhost:8080/",
          "height": 142
        },
        "outputId": "42f34c8c-7344-433c-d8ca-7da2ec340d74"
      },
      "source": [
        "dfn.iloc[:3]  #Funciona por posicion"
      ],
      "execution_count": 95,
      "outputs": [
        {
          "output_type": "execute_result",
          "data": {
            "text/html": [
              "<div>\n",
              "<style scoped>\n",
              "    .dataframe tbody tr th:only-of-type {\n",
              "        vertical-align: middle;\n",
              "    }\n",
              "\n",
              "    .dataframe tbody tr th {\n",
              "        vertical-align: top;\n",
              "    }\n",
              "\n",
              "    .dataframe thead th {\n",
              "        text-align: right;\n",
              "    }\n",
              "</style>\n",
              "<table border=\"1\" class=\"dataframe\">\n",
              "  <thead>\n",
              "    <tr style=\"text-align: right;\">\n",
              "      <th></th>\n",
              "      <th>A</th>\n",
              "    </tr>\n",
              "  </thead>\n",
              "  <tbody>\n",
              "    <tr>\n",
              "      <th>9</th>\n",
              "      <td>Casa</td>\n",
              "    </tr>\n",
              "    <tr>\n",
              "      <th>6</th>\n",
              "      <td>Puerta</td>\n",
              "    </tr>\n",
              "    <tr>\n",
              "      <th>5</th>\n",
              "      <td>Ventanas</td>\n",
              "    </tr>\n",
              "  </tbody>\n",
              "</table>\n",
              "</div>"
            ],
            "text/plain": [
              "          A\n",
              "9      Casa\n",
              "6    Puerta\n",
              "5  Ventanas"
            ]
          },
          "metadata": {
            "tags": []
          },
          "execution_count": 95
        }
      ]
    },
    {
      "cell_type": "code",
      "metadata": {
        "id": "gC9e72N_x8AY",
        "colab_type": "code",
        "colab": {
          "base_uri": "https://localhost:8080/",
          "height": 204
        },
        "outputId": "fed7bf70-fa70-4b82-94a6-b0f401696711"
      },
      "source": [
        "dfn.loc[:3]   #Funciona por etiqueta"
      ],
      "execution_count": 93,
      "outputs": [
        {
          "output_type": "execute_result",
          "data": {
            "text/html": [
              "<div>\n",
              "<style scoped>\n",
              "    .dataframe tbody tr th:only-of-type {\n",
              "        vertical-align: middle;\n",
              "    }\n",
              "\n",
              "    .dataframe tbody tr th {\n",
              "        vertical-align: top;\n",
              "    }\n",
              "\n",
              "    .dataframe thead th {\n",
              "        text-align: right;\n",
              "    }\n",
              "</style>\n",
              "<table border=\"1\" class=\"dataframe\">\n",
              "  <thead>\n",
              "    <tr style=\"text-align: right;\">\n",
              "      <th></th>\n",
              "      <th>A</th>\n",
              "    </tr>\n",
              "  </thead>\n",
              "  <tbody>\n",
              "    <tr>\n",
              "      <th>9</th>\n",
              "      <td>Casa</td>\n",
              "    </tr>\n",
              "    <tr>\n",
              "      <th>6</th>\n",
              "      <td>Puerta</td>\n",
              "    </tr>\n",
              "    <tr>\n",
              "      <th>5</th>\n",
              "      <td>Ventanas</td>\n",
              "    </tr>\n",
              "    <tr>\n",
              "      <th>1</th>\n",
              "      <td>Techo</td>\n",
              "    </tr>\n",
              "    <tr>\n",
              "      <th>3</th>\n",
              "      <td>Piso</td>\n",
              "    </tr>\n",
              "  </tbody>\n",
              "</table>\n",
              "</div>"
            ],
            "text/plain": [
              "          A\n",
              "9      Casa\n",
              "6    Puerta\n",
              "5  Ventanas\n",
              "1     Techo\n",
              "3      Piso"
            ]
          },
          "metadata": {
            "tags": []
          },
          "execution_count": 93
        }
      ]
    }
  ]
}